{
 "cells": [
  {
   "cell_type": "code",
   "execution_count": 1,
   "metadata": {},
   "outputs": [],
   "source": [
    "import torch\n",
    "import torch.nn as nn\n",
    "import torch.optim as optim\n",
    "from loader.data_loader import PMEmoDataset\n",
    "import torch.utils.data as torchData\n",
    "from model import spectroCnnVanilla\n",
    "from sklearn.model_selection import KFold\n",
    "from sklearn.metrics import root_mean_squared_error, r2_score\n",
    "from tqdm import tqdm"
   ]
  },
  {
   "cell_type": "code",
   "execution_count": 2,
   "metadata": {},
   "outputs": [],
   "source": [
    "# TODO normalize spectrograms\n",
    "# TODO save model weights\n",
    "# TODO split model into distinct valence and arousal models, because combining them into a single model might affect the other, causing the unstable r2 scores, losses, rsme values"
   ]
  },
  {
   "cell_type": "code",
   "execution_count": 3,
   "metadata": {},
   "outputs": [],
   "source": [
    "root_dir = \"dataset\"\n",
    "dataset = PMEmoDataset(root_dir)"
   ]
  },
  {
   "cell_type": "code",
   "execution_count": 4,
   "metadata": {},
   "outputs": [],
   "source": [
    "# Train-test split\n",
    "train_size = int(0.8 * len(dataset))\n",
    "test_size = len(dataset) - train_size\n",
    "train_dataset, test_dataset = torch.utils.data.random_split(dataset, [train_size, test_size])"
   ]
  },
  {
   "cell_type": "code",
   "execution_count": 5,
   "metadata": {},
   "outputs": [
    {
     "name": "stdout",
     "output_type": "stream",
     "text": [
      "Dataset size: 7670\n",
      "Train dataset size: 6136\n",
      "Test dataset size: 1534\n",
      "Spectrogram: torch.Size([1, 369, 496])\n",
      "EDA: torch.Size([1, 896])\n",
      "Arousal: torch.Size([1])\n",
      "Valence: torch.Size([1])\n",
      "Music vector: torch.Size([319])\n"
     ]
    }
   ],
   "source": [
    "print(f'Dataset size: {len(dataset)}')\n",
    "print(f'Train dataset size: {len(train_dataset)}')\n",
    "print(f'Test dataset size: {len(test_dataset)}')  # 767 613 154\n",
    "print(f'Spectrogram: {dataset[0][0].shape}')\n",
    "print(f'EDA: {dataset[0][1].shape}')\n",
    "print(f'Arousal: {dataset[0][2].shape}')\n",
    "print(f'Valence: {dataset[0][3].shape}')\n",
    "print(f'Music vector: {dataset[0][4].shape}')"
   ]
  },
  {
   "cell_type": "code",
   "execution_count": 6,
   "metadata": {},
   "outputs": [
    {
     "name": "stdout",
     "output_type": "stream",
     "text": [
      "tensor([[[0.0000, 0.0000, 0.0000,  ..., 0.0627, 0.1255, 0.1216],\n",
      "         [0.0000, 0.0000, 0.0000,  ..., 0.0627, 0.1255, 0.1216],\n",
      "         [0.0000, 0.0118, 0.0000,  ..., 0.1490, 0.1843, 0.1961],\n",
      "         ...,\n",
      "         [0.1686, 0.3725, 0.4118,  ..., 0.2980, 0.2588, 0.2824],\n",
      "         [0.1686, 0.3725, 0.4118,  ..., 0.2980, 0.2588, 0.2824],\n",
      "         [0.1686, 0.3725, 0.4118,  ..., 0.2980, 0.2588, 0.2824]]])\n"
     ]
    }
   ],
   "source": [
    "print(dataset[0][0])"
   ]
  },
  {
   "cell_type": "code",
   "execution_count": 7,
   "metadata": {},
   "outputs": [],
   "source": [
    "batch_size = 16\n",
    "\n",
    "\n",
    "train_loader = torch.utils.data.DataLoader(train_dataset, batch_size=batch_size,\n",
    "                                          shuffle=True, num_workers=8)\n",
    "\n",
    "test_loader = torch.utils.data.DataLoader(test_dataset, batch_size=batch_size,\n",
    "                                         shuffle=False, num_workers=8)"
   ]
  },
  {
   "cell_type": "code",
   "execution_count": 8,
   "metadata": {},
   "outputs": [],
   "source": [
    "# Instantiate the model\n",
    "usesSpectrogram = True\n",
    "usesEDA = True\n",
    "usesMusic = True\n",
    "predictsArousal = True\n",
    "predictsValence = True\n",
    "usesMusicLSTM = False\n",
    "\n",
    "# Ensure that predictArousal and predictValence are not both False\n",
    "assert predictsArousal or predictsValence\n",
    "# Ensure that at least one of usesSpectrogram, usesEDA, and usesMusic is True\n",
    "assert usesSpectrogram or usesEDA or usesMusic\n",
    "\n",
    "model = spectroCnnVanilla.SpectroNet(usesSpectrogram,\n",
    "                                    usesEDA,\n",
    "                                    usesMusic,\n",
    "                                    predictsArousal,\n",
    "                                    predictsValence,\n",
    "                                    usesMusicLSTM)"
   ]
  },
  {
   "cell_type": "code",
   "execution_count": 9,
   "metadata": {},
   "outputs": [
    {
     "name": "stdout",
     "output_type": "stream",
     "text": [
      "SpectroNet(\n",
      "  (spec_cnn): Sequential(\n",
      "    (0): Conv2d(1, 32, kernel_size=(3, 3), stride=(1, 1), padding=(1, 1))\n",
      "    (1): ReLU()\n",
      "    (2): MaxPool2d(kernel_size=2, stride=2, padding=0, dilation=1, ceil_mode=False)\n",
      "    (3): Conv2d(32, 64, kernel_size=(3, 3), stride=(1, 1), padding=(1, 1))\n",
      "    (4): ReLU()\n",
      "    (5): MaxPool2d(kernel_size=2, stride=2, padding=0, dilation=1, ceil_mode=False)\n",
      "    (6): Conv2d(64, 128, kernel_size=(3, 3), stride=(1, 1), padding=(1, 1))\n",
      "    (7): ReLU()\n",
      "    (8): MaxPool2d(kernel_size=2, stride=2, padding=0, dilation=1, ceil_mode=False)\n",
      "    (9): AdaptiveAvgPool2d(output_size=(1, 1))\n",
      "    (10): Flatten(start_dim=1, end_dim=-1)\n",
      "  )\n",
      "  (output): Sequential(\n",
      "    (0): Linear(in_features=128, out_features=256, bias=True)\n",
      "    (1): Linear(in_features=256, out_features=128, bias=True)\n",
      "    (2): ReLU(inplace=True)\n",
      "    (3): Linear(in_features=128, out_features=2, bias=True)\n",
      "    (4): ReLU(inplace=True)\n",
      "  )\n",
      ")\n"
     ]
    }
   ],
   "source": [
    "print(model)"
   ]
  },
  {
   "cell_type": "code",
   "execution_count": 10,
   "metadata": {},
   "outputs": [
    {
     "name": "stdout",
     "output_type": "stream",
     "text": [
      "mps\n"
     ]
    }
   ],
   "source": [
    "# Define loss function and optimizer\n",
    "criterion = nn.MSELoss()\n",
    "optimizer = optim.Adam(model.parameters(), lr=0.001)\n",
    "\n",
    "# Training loop\n",
    "num_epochs = 2\n",
    "device = torch.device(\"mps\" if torch.backends.mps.is_available() else \"cuda\" if torch.cuda.is_available() else \"cpu\")\n",
    "model.to(device)\n",
    "print(device)"
   ]
  },
  {
   "cell_type": "code",
   "execution_count": 11,
   "metadata": {},
   "outputs": [],
   "source": [
    "def unpack_data(data):\n",
    "    spectrogram, eda_data, arousal_label, valence_label, music_vector = data\n",
    "    spectrogram = spectrogram.to(device)\n",
    "    eda_data = eda_data.to(device)\n",
    "    arousal_label = arousal_label.to(device)\n",
    "    valence_label = valence_label.to(device)\n",
    "    music_vector = music_vector.to(device=device, dtype=torch.float32)\n",
    "    return spectrogram, eda_data, arousal_label, valence_label, music_vector"
   ]
  },
  {
   "cell_type": "code",
   "execution_count": 12,
   "metadata": {},
   "outputs": [
    {
     "name": "stderr",
     "output_type": "stream",
     "text": [
      "Train epoch 1: 100%|██████████| 384/384 [02:26<00:00,  2.63batch/s, Running loss: 0.2494868349749595] \n",
      "Validate epoch 1: 100%|██████████| 96/96 [00:48<00:00,  1.99batch/s]"
     ]
    },
    {
     "name": "stdout",
     "output_type": "stream",
     "text": [
      "Epoch [1/2], Train Loss: 0.2495, Val Loss: 0.0022, Arousal RMSE: 0.6628, Valence RMSE: 0.2229, Arousal R2: -6.6101, Valence R2: 0.1215\n"
     ]
    },
    {
     "name": "stderr",
     "output_type": "stream",
     "text": [
      "\n",
      "Train epoch 2: 100%|██████████| 384/384 [02:25<00:00,  2.64batch/s, Running loss: 0.24709617218468338]\n",
      "Validate epoch 2: 100%|██████████| 96/96 [00:47<00:00,  2.00batch/s]"
     ]
    },
    {
     "name": "stdout",
     "output_type": "stream",
     "text": [
      "Epoch [2/2], Train Loss: 0.2471, Val Loss: 0.0023, Arousal RMSE: 0.6628, Valence RMSE: 0.2257, Arousal R2: -6.6101, Valence R2: 0.0990\n",
      "Training finished.\n"
     ]
    },
    {
     "name": "stderr",
     "output_type": "stream",
     "text": [
      "\n"
     ]
    }
   ],
   "source": [
    "# Training loop\n",
    "for epoch in range(num_epochs):\n",
    "    running_loss = 0.0\n",
    "    model.train()\n",
    "    pbar_train = tqdm(enumerate(train_loader, 0), unit=\"batch\", total=len(train_loader), desc=f'Train epoch {str(epoch + 1)}')\n",
    "    for i, data in pbar_train:\n",
    "        spectrogram, eda_data, arousal_label, valence_label, music_vector = unpack_data(data)\n",
    "\n",
    "        optimizer.zero_grad()\n",
    "\n",
    "        # # Print shapes of all inputs\n",
    "        # print(\"--------------\")\n",
    "        # print(f\"Spectrogram shape: {spectrogram.shape}\")\n",
    "        # print(f\"EDA data shape: {eda_data.shape}\")\n",
    "        # print(f\"Arousal label shape: {arousal_label.shape}\")\n",
    "        # print(f\"Valence label shape: {valence_label.shape}\")\n",
    "        # print(f\"Music vector shape: {music_vector.shape}\")\n",
    "\n",
    "        output = model(spectrogram, eda_data, music_vector)\n",
    "        labels = torch.cat((arousal_label, valence_label), -1)\n",
    "\n",
    "        # print(f'Output: {output.shape}')\n",
    "        # print(f'Labels: {labels.shape}')\n",
    "        \n",
    "        loss = criterion(output, labels)\n",
    "\n",
    "        loss.backward()\n",
    "        optimizer.step()\n",
    "\n",
    "        running_loss += loss.item()\n",
    "        \n",
    "        pbar_train.set_postfix_str(f'Running loss: {running_loss / (i + 1)}')\n",
    "\n",
    "    # Evaluate on the validation set\n",
    "    model.eval()\n",
    "    val_loss = 0.0\n",
    "    arousal_preds = []\n",
    "    valence_preds = []\n",
    "    arousal_labels = []\n",
    "    valence_labels = []\n",
    "\n",
    "    with torch.no_grad():\n",
    "        pbar_test = tqdm(enumerate(test_loader, 0), unit=\"batch\", total=len(test_loader), desc=f'Validate epoch {str(epoch + 1)}')\n",
    "        for i, data in pbar_test:\n",
    "            spectrogram, eda_data, arousal_label, valence_label, music_vector = unpack_data(data)\n",
    "\n",
    "            output = model(spectrogram, eda_data, music_vector)\n",
    "            labels = torch.cat((arousal_label, valence_label), -1)\n",
    "            val_loss = criterion(output, labels)\n",
    "            arousal_output = output[:,0:1]\n",
    "            valence_output = output[:,1:]\n",
    "            arousal_preds.extend(arousal_output.cpu().numpy())\n",
    "            valence_preds.extend(valence_output.cpu().numpy())\n",
    "            arousal_labels.extend(arousal_label.cpu().numpy())\n",
    "            valence_labels.extend(valence_label.cpu().numpy())\n",
    "\n",
    "        # Calculate and print losses and metrics\n",
    "        arousal_mse = root_mean_squared_error(arousal_labels, arousal_preds)\n",
    "        valence_mse = root_mean_squared_error(valence_labels, valence_preds)\n",
    "        arousal_r2 = r2_score(arousal_labels, arousal_preds)\n",
    "        valence_r2 = r2_score(valence_labels, valence_preds)\n",
    "\n",
    "        print(f\"Epoch [{epoch + 1}/{num_epochs}], \"\n",
    "                f\"Train Loss: {running_loss / len(train_loader):.4f}, \"\n",
    "                f\"Val Loss: {val_loss / len(test_loader):.4f}, \"\n",
    "                f\"Arousal RMSE: {arousal_mse:.4f}, \"\n",
    "                f\"Valence RMSE: {valence_mse:.4f}, \"\n",
    "                f\"Arousal R2: {arousal_r2:.4f}, \"\n",
    "                f\"Valence R2: {valence_r2:.4f}\")\n",
    "\n",
    "print(\"Training finished.\")"
   ]
  },
  {
   "cell_type": "code",
   "execution_count": 13,
   "metadata": {},
   "outputs": [
    {
     "name": "stdout",
     "output_type": "stream",
     "text": [
      "Model weights saved to: /Users/abramtan/Developer/multi_modal_cnn/weights/spectroCnnVanilla-24-04-09-1227.pt\n"
     ]
    }
   ],
   "source": [
    "import time\n",
    "\n",
    "t = time.localtime()\n",
    "current_time = time.strftime(\"%y-%m-%d-%H%M\", t)\n",
    "\n",
    "PATH = '/Users/abramtan/Developer/multi_modal_cnn/weights/spectroCnnVanilla-'+current_time+'.pt'\n",
    "torch.save(model.state_dict(), PATH)\n",
    "print(f'Model weights saved to: {PATH}')"
   ]
  },
  {
   "cell_type": "code",
   "execution_count": 16,
   "metadata": {},
   "outputs": [
    {
     "name": "stderr",
     "output_type": "stream",
     "text": [
      "Validate epoch 2:   0%|          | 0/96 [00:00<?, ?batch/s]"
     ]
    },
    {
     "name": "stdout",
     "output_type": "stream",
     "text": [
      "tensor([[0.0000, 0.5414],\n",
      "        [0.0000, 0.3856],\n",
      "        [0.0000, 0.6190],\n",
      "        [0.0000, 0.5741],\n",
      "        [0.0000, 0.6059],\n",
      "        [0.0000, 0.5235],\n",
      "        [0.0000, 0.4678],\n",
      "        [0.0000, 0.5428],\n",
      "        [0.0000, 0.5811],\n",
      "        [0.0000, 0.6191],\n",
      "        [0.0000, 0.6033],\n",
      "        [0.0000, 0.6190],\n",
      "        [0.0000, 0.6185],\n",
      "        [0.0000, 0.5424],\n",
      "        [0.0000, 0.6161],\n",
      "        [0.0000, 0.6161]], device='mps:0')\n",
      "tensor([[1.0000, 1.0000],\n",
      "        [0.2500, 0.1250],\n",
      "        [0.6250, 0.6250],\n",
      "        [0.6250, 0.7500],\n",
      "        [0.6250, 0.7500],\n",
      "        [0.8750, 0.5000],\n",
      "        [0.7500, 0.6250],\n",
      "        [0.3750, 0.2500],\n",
      "        [0.5000, 0.6250],\n",
      "        [0.6250, 0.7500],\n",
      "        [0.7500, 0.7500],\n",
      "        [0.8750, 0.8750],\n",
      "        [0.7500, 0.7500],\n",
      "        [0.8750, 0.6250],\n",
      "        [0.7500, 0.7500],\n",
      "        [0.5000, 0.3750]], device='mps:0')\n"
     ]
    },
    {
     "data": {
      "image/png": "[encoded data removed]",
      "text/plain": [
       "<Figure size 640x480 with 1 Axes>"
      ]
     },
     "metadata": {},
     "output_type": "display_data"
    },
    {
     "data": {
      "image/png": "[encoded data removed]",
      "text/plain": [
       "<Figure size 640x480 with 1 Axes>"
      ]
     },
     "metadata": {},
     "output_type": "display_data"
    },
    {
     "name": "stderr",
     "output_type": "stream",
     "text": [
      "Validate epoch 2:   0%|          | 0/96 [00:30<?, ?batch/s]\n"
     ]
    }
   ],
   "source": [
    "import matplotlib.pyplot as plt\n",
    "import numpy as np\n",
    "\n",
    "with torch.no_grad():\n",
    "    pbar_test = tqdm(enumerate(test_loader, 0), unit=\"batch\", total=len(test_loader), desc=f'Validate epoch {str(epoch + 1)}')\n",
    "    for i, data in pbar_test:\n",
    "        spectrogram, eda_data, arousal_label, valence_label, music_vector = unpack_data(data)\n",
    "\n",
    "        output = model(spectrogram, eda_data, music_vector)\n",
    "        arousal_output = output[:,0:1]\n",
    "        valence_output = output[:,1:]\n",
    "        outputs = torch.cat((arousal_output, valence_output), -1)\n",
    "        labels = torch.cat((arousal_label, valence_label), -1)\n",
    "        print(outputs)\n",
    "        print(labels)\n",
    "    \n",
    "        t = list(outputs.T[0].cpu())\n",
    "        t_2 = list(labels.T[0].cpu())\n",
    "\n",
    "        n=16\n",
    "        r = np.arange(n) \n",
    "        width = 0.35\n",
    "        \n",
    "        plt.bar(r, t, color = 'b', \n",
    "                width = width,\n",
    "                label='Pred') \n",
    "        plt.bar(r + width, t_2, color = 'r', \n",
    "                width = width,\n",
    "                label='Label')\n",
    "\n",
    "        plt.xlabel('Datapoints')\n",
    "        plt.title('Arousal Comparison')\n",
    "        plt.legend()\n",
    "        plt.show()\n",
    "\n",
    "\n",
    "        t = list(outputs.T[1].cpu())\n",
    "        t_2 = list(labels.T[1].cpu())\n",
    "\n",
    "        n=16\n",
    "        r = np.arange(n) \n",
    "        width = 0.35\n",
    "        \n",
    "        plt.bar(r, t, color = 'b', \n",
    "                width = width,\n",
    "                label='Pred') \n",
    "        plt.bar(r + width, t_2, color = 'r', \n",
    "                width = width,\n",
    "                label='Label')\n",
    "\n",
    "        plt.xlabel('Datapoints')\n",
    "        plt.title('Valence Comparison')\n",
    "        plt.legend()\n",
    "        plt.show()\n",
    "        break"
   ]
  },
  {
   "cell_type": "code",
   "execution_count": null,
   "metadata": {},
   "outputs": [],
   "source": []
  },
  {
   "cell_type": "code",
   "execution_count": 15,
   "metadata": {},
   "outputs": [],
   "source": [
    "# with torch.no_grad():\n",
    "#     pbar_test = tqdm(enumerate(test_loader, 0), unit=\"batch\", total=len(test_loader), desc=f'Validate epoch {str(epoch + 1)}')\n",
    "#     for i, data in pbar_test:\n",
    "#         spectrogram, eda_data, arousal_label, valence_label, music_vector = unpack_data(data)\n",
    "\n",
    "#         output = model(spectrogram, eda_data, music_vector)\n",
    "#         arousal_output = output[:,0:1]\n",
    "#         valence_output = output[:,1:]\n",
    "#         outputs = torch.cat((arousal_output, valence_output), -1)\n",
    "#         labels = torch.cat((arousal_label, valence_label), -1)\n",
    "#         print(arousal_output, valence_output)\n",
    "#         print(labels)\n",
    "#         break\n",
    "\n",
    "# import torch\n",
    "# import matplotlib.pyplot as plt\n",
    "\n",
    "# t = torch.tensor([0., 0., 1., 1., 0., 1., 1., 0., 0., 0.])\n",
    "# hist = torch.histc(t, bins = 2, min = 0, max = 1)\n",
    "\n",
    "# bins = 2\n",
    "# x = range(bins)\n",
    "# plt.bar(x, hist, align='center')\n",
    "# plt.xlabel('Bins')"
   ]
  }
 ],
 "metadata": {
  "kernelspec": {
   "display_name": "Python 3",
   "language": "python",
   "name": "python3"
  },
  "language_info": {
   "codemirror_mode": {
    "name": "ipython",
    "version": 3
   },
   "file_extension": ".py",
   "mimetype": "text/x-python",
   "name": "python",
   "nbconvert_exporter": "python",
   "pygments_lexer": "ipython3",
   "version": "3.10.6"
  }
 },
 "nbformat": 4,
 "nbformat_minor": 2
}
